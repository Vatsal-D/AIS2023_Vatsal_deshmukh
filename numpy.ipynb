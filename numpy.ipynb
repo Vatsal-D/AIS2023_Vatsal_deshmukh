{
 "cells": [
  {
   "cell_type": "code",
   "execution_count": 48,
   "metadata": {},
   "outputs": [
    {
     "name": "stdout",
     "output_type": "stream",
     "text": [
      "<class 'numpy.ndarray'>\n",
      "(3,)\n",
      "1 2 3\n",
      "[5 2 3]\n"
     ]
    }
   ],
   "source": [
    "#array in numpy\n",
    "import numpy as np\n",
    "a=np.array([1,2,3])\n",
    "print(type(a))\n",
    "print(a.shape)\n",
    "print(a[0],a[1],a[2])\n",
    "a[0]=5\n",
    "print(a)"
   ]
  },
  {
   "cell_type": "code",
   "execution_count": 49,
   "metadata": {},
   "outputs": [
    {
     "name": "stdout",
     "output_type": "stream",
     "text": [
      "[[1 2 3]\n",
      " [4 5 6]]\n",
      "(2, 3)\n",
      "1 2 4\n"
     ]
    }
   ],
   "source": [
    " #2d array in numpy or a matrix 2X3 matrix\n",
    "b = np.array([[1,2,3],[4,5,6]])    \n",
    "print(b)\n",
    "print(b.shape)                     \n",
    "print(b[0, 0], b[0, 1], b[1, 0])"
   ]
  },
  {
   "cell_type": "code",
   "execution_count": 50,
   "metadata": {},
   "outputs": [
    {
     "name": "stdout",
     "output_type": "stream",
     "text": [
      "[[0. 0.]\n",
      " [0. 0.]]\n",
      "[[7 7]\n",
      " [7 7]]\n",
      "[[1. 0.]\n",
      " [0. 1.]]\n",
      "[[0.83718942 0.32671529]\n",
      " [0.57264452 0.38839557]]\n"
     ]
    }
   ],
   "source": [
    "# Create an array of all zeros\n",
    "a = np.zeros((2,2))   \n",
    "print(a)  \n",
    "# Create a constant array\n",
    "c = np.full((2,2), 7)  \n",
    "print(c)               \n",
    " # Create a 2x2 identity matrix\n",
    "d = np.eye(2)        \n",
    "print(d)           \n",
    "# Create an array filled with random values\n",
    "e = np.random.random((2,2))  \n",
    "print(e)             "
   ]
  },
  {
   "cell_type": "code",
   "execution_count": 51,
   "metadata": {},
   "outputs": [
    {
     "name": "stdout",
     "output_type": "stream",
     "text": [
      "2\n"
     ]
    }
   ],
   "source": [
    "#indexing numpy array\n",
    "import numpy as np\n",
    "\n",
    "arr = np.array([1, 2, 3, 4])\n",
    "\n",
    "print(arr[1])"
   ]
  },
  {
   "cell_type": "code",
   "execution_count": 52,
   "metadata": {},
   "outputs": [
    {
     "name": "stdout",
     "output_type": "stream",
     "text": [
      "[[ 1  2  3  4  5]\n",
      " [ 6  7  8  9 10]]\n",
      "2nd element on 1st row:  2\n"
     ]
    }
   ],
   "source": [
    "#indexing 2d array\n",
    "import numpy as np\n",
    "\n",
    "arr = np.array([[1,2,3,4,5], [6,7,8,9,10]])\n",
    "print(arr)\n",
    "\n",
    "print('2nd element on 1st row: ', arr[0, 1])"
   ]
  },
  {
   "cell_type": "code",
   "execution_count": 53,
   "metadata": {},
   "outputs": [
    {
     "name": "stdout",
     "output_type": "stream",
     "text": [
      "[[ 1  2  3  4  5]\n",
      " [ 6  7  8  9 10]]\n",
      "Last element from 2nd dimension:  10\n"
     ]
    }
   ],
   "source": [
    "#negative indexing\n",
    "import numpy as np\n",
    "\n",
    "arr = np.array([[1,2,3,4,5], [6,7,8,9,10]])\n",
    "print(arr)\n",
    "\n",
    "print('Last element from 2nd dimension: ', arr[1, -1])"
   ]
  },
  {
   "cell_type": "code",
   "execution_count": 54,
   "metadata": {},
   "outputs": [
    {
     "name": "stdout",
     "output_type": "stream",
     "text": [
      "normal array [1 2 3 4 5 6 7]\n",
      "Sliced array [2 3 4 5]\n"
     ]
    }
   ],
   "source": [
    "#slicing array from 1 to 5\n",
    "import numpy as np\n",
    "\n",
    "arr = np.array([1, 2, 3, 4, 5, 6, 7])\n",
    "print(\"normal array\",arr)\n",
    "\n",
    "print(\"Sliced array\",arr[1:5])"
   ]
  },
  {
   "cell_type": "code",
   "execution_count": 55,
   "metadata": {},
   "outputs": [
    {
     "name": "stdout",
     "output_type": "stream",
     "text": [
      "normal array [1 2 3 4 5 6 7]\n",
      "Sliced array [5 6]\n"
     ]
    }
   ],
   "source": [
    "#negative slicing\n",
    "import numpy as np\n",
    "\n",
    "arr = np.array([1, 2, 3, 4, 5, 6, 7])\n",
    "print(\"normal array\",arr)\n",
    "\n",
    "print(\"Sliced array\",arr[-3:-1])"
   ]
  },
  {
   "cell_type": "code",
   "execution_count": 56,
   "metadata": {},
   "outputs": [
    {
     "name": "stdout",
     "output_type": "stream",
     "text": [
      "normal array [1 2 3 4 5 6 7]\n",
      "Sliced array [2 4]\n"
     ]
    }
   ],
   "source": [
    "# for range in first to fifth element with a gap of 2\n",
    "import numpy as np\n",
    "\n",
    "arr = np.array([1, 2, 3, 4, 5, 6, 7])\n",
    "print(\"normal array\",arr)\n",
    "\n",
    "print(\"Sliced array\",arr[1:5:2])\n"
   ]
  },
  {
   "cell_type": "code",
   "execution_count": 57,
   "metadata": {},
   "outputs": [
    {
     "name": "stdout",
     "output_type": "stream",
     "text": [
      "normal array [1 2 3 4 5 6 7]\n",
      "Sliced array [1 3 5 7]\n"
     ]
    }
   ],
   "source": [
    "# slicing with a gap of element\n",
    "import numpy as np\n",
    "\n",
    "arr = np.array([1, 2, 3, 4, 5, 6, 7])\n",
    "print(\"normal array\",arr)\n",
    "\n",
    "print(\"Sliced array\",arr[::2])"
   ]
  },
  {
   "cell_type": "code",
   "execution_count": 58,
   "metadata": {},
   "outputs": [
    {
     "name": "stdout",
     "output_type": "stream",
     "text": [
      "[2. 4. 6.]\n"
     ]
    }
   ],
   "source": [
    "#broadcasting of array\n",
    "import numpy as np\n",
    "\n",
    "a = np.array([1.0,2.0,3.0])\n",
    "b = 2.0\n",
    "c = a * b\n",
    "print(c)\n"
   ]
  },
  {
   "cell_type": "code",
   "execution_count": 65,
   "metadata": {},
   "outputs": [
    {
     "name": "stdout",
     "output_type": "stream",
     "text": [
      "[[1 2 3]\n",
      " [4 5 6]] [[ 7  8  9]\n",
      " [10 11 12]]\n",
      "[4 5 6] [7 8 9]\n"
     ]
    }
   ],
   "source": [
    "#indexing of matrix\n",
    "import numpy as np\n",
    "\n",
    "arr = np.array([[[1, 2, 3], [4, 5, 6]], [[7, 8, 9], [10, 11, 12]]])\n",
    "\n",
    "print(arr[0],arr[1])\n",
    "print(arr[0][1],arr[1][0])\n"
   ]
  },
  {
   "cell_type": "code",
   "execution_count": 68,
   "metadata": {},
   "outputs": [
    {
     "name": "stdout",
     "output_type": "stream",
     "text": [
      "[[2 3 4]\n",
      " [7 8 9]]\n"
     ]
    }
   ],
   "source": [
    "#slicing of matrix\n",
    "import numpy as np\n",
    "\n",
    "arr = np.array([[1, 2, 3, 4, 5], [6, 7, 8, 9, 10]])\n",
    "\n",
    "print(arr[0:3, 1:4])"
   ]
  },
  {
   "cell_type": "code",
   "execution_count": 59,
   "metadata": {},
   "outputs": [
    {
     "name": "stdout",
     "output_type": "stream",
     "text": [
      "[[ 1.  2.  3.]\n",
      " [11. 12. 13.]\n",
      " [21. 22. 23.]\n",
      " [31. 32. 33.]]\n"
     ]
    }
   ],
   "source": [
    "# broadcasting of matrix \n",
    "from numpy import array\n",
    "a = array([[ 0.0,  0.0,  0.0],\n",
    "           [10.0, 10.0, 10.0],\n",
    "           [20.0, 20.0, 20.0],\n",
    "           [30.0, 30.0, 30.0]])\n",
    "b = array([1.0, 2.0, 3.0])\n",
    "c = a + b\n",
    "print(c)"
   ]
  },
  {
   "cell_type": "code",
   "execution_count": 47,
   "metadata": {},
   "outputs": [
    {
     "name": "stdout",
     "output_type": "stream",
     "text": [
      "[  9 240 108]\n"
     ]
    }
   ],
   "source": [
    "# using daigonal function in matrix\n",
    "import numpy as np\n",
    "arr = np.matrix([[9, 18, 25], \n",
    "                 [155 ,240, 68], \n",
    "                 [29, 82, 108]])\n",
    "arr2 = np.diag(arr)\n",
    "print(arr2)"
   ]
  },
  {
   "cell_type": "code",
   "execution_count": 71,
   "metadata": {},
   "outputs": [
    {
     "data": {
      "text/plain": [
       "array([[0, 0],\n",
       "       [0, 0],\n",
       "       [0, 0],\n",
       "       [0, 0],\n",
       "       [0, 0],\n",
       "       [0, 0]])"
      ]
     },
     "execution_count": 71,
     "metadata": {},
     "output_type": "execute_result"
    }
   ],
   "source": [
    "#numpy zeros function\n",
    "import numpy as np  \n",
    "a=np.zeros((6,2),dtype=int)  \n",
    "a  "
   ]
  },
  {
   "cell_type": "code",
   "execution_count": 73,
   "metadata": {},
   "outputs": [
    {
     "name": "stdout",
     "output_type": "stream",
     "text": [
      "[[1 1 1]\n",
      " [1 1 1]]\n"
     ]
    }
   ],
   "source": [
    "# numpy ones function\n",
    "import numpy as np\n",
    "\n",
    "array_2d = np.ones((2, 3),dtype=int)\n",
    "print(array_2d)"
   ]
  },
  {
   "cell_type": "code",
   "execution_count": 76,
   "metadata": {},
   "outputs": [
    {
     "name": "stdout",
     "output_type": "stream",
     "text": [
      "square-root of an array1  :  [1. 2. 3. 4.]\n",
      "square-root of an array2  :  [2.44948974 3.16227766 4.24264069]\n"
     ]
    }
   ],
   "source": [
    "#numpy sqrt function\n",
    "import numpy as np\n",
    "  \n",
    "# applying sqrt() method on integer numbers \n",
    "arr1 = np.sqrt([1, 4, 9, 16])\n",
    "arr2 = np.sqrt([6, 10, 18])\n",
    "  \n",
    "print(\"square-root of an array1  : \", arr1)\n",
    "print(\"square-root of an array2  : \", arr2)"
   ]
  },
  {
   "cell_type": "code",
   "execution_count": 79,
   "metadata": {},
   "outputs": [
    {
     "name": "stdout",
     "output_type": "stream",
     "text": [
      "[0.         0.69314718 1.09861229 1.38629436]\n"
     ]
    }
   ],
   "source": [
    "#applying log function\n",
    "import numpy as np\n",
    "arr1 = np.array([1,2,3,4])\n",
    "print (np.log(arr1))"
   ]
  },
  {
   "cell_type": "code",
   "execution_count": 81,
   "metadata": {},
   "outputs": [
    {
     "name": "stdout",
     "output_type": "stream",
     "text": [
      "[ 2.71828183  7.3890561  20.08553692 54.59815003]\n"
     ]
    }
   ],
   "source": [
    "# appling exp function\n",
    "import numpy as np\n",
    "arr1 = np.array([1,2,3,4])\n",
    "print(np.exp(arr1))"
   ]
  },
  {
   "cell_type": "code",
   "execution_count": 82,
   "metadata": {},
   "outputs": [
    {
     "name": "stdout",
     "output_type": "stream",
     "text": [
      "[[3400 6200]\n",
      " [ 374  712]]\n"
     ]
    }
   ],
   "source": [
    "# dot product of matrix\n",
    "import numpy as np  \n",
    "a = np.array([[100,200],[23,12]])  \n",
    "b = np.array([[10,20],[12,21]])  \n",
    "dot = np.dot(a,b)  \n",
    "print(dot)  "
   ]
  },
  {
   "cell_type": "code",
   "execution_count": 83,
   "metadata": {},
   "outputs": [
    {
     "name": "stdout",
     "output_type": "stream",
     "text": [
      "[[ 48  49  43]\n",
      " [144 145 112]\n",
      " [240 241 181]]\n"
     ]
    }
   ],
   "source": [
    "#matrix multiplication\n",
    "import numpy as np  \n",
    "a = np.array([[1,2,3],[4,5,6],[7,8,9]])  \n",
    "b = np.array([[23,23,12],[2,1,2],[7,8,9]])  \n",
    "mul = np.matmul(a,b)  \n",
    "print(mul)  "
   ]
  },
  {
   "cell_type": "code",
   "execution_count": 85,
   "metadata": {},
   "outputs": [
    {
     "name": "stdout",
     "output_type": "stream",
     "text": [
      "-2.0000000000000004\n"
     ]
    }
   ],
   "source": [
    "#determinant of matrix\n",
    "import numpy as np  \n",
    "a = np.array([[1,2],[3,4]])  \n",
    "print(np.linalg.det(a))  "
   ]
  },
  {
   "cell_type": "code",
   "execution_count": 87,
   "metadata": {},
   "outputs": [
    {
     "name": "stdout",
     "output_type": "stream",
     "text": [
      "Original matrix:\n",
      " [[1 2]\n",
      " [3 4]]\n",
      "Inverse:\n",
      " [[-2.   1. ]\n",
      " [ 1.5 -0.5]]\n"
     ]
    }
   ],
   "source": [
    "#inverse of matrix\n",
    "import numpy as np  \n",
    "a = np.array([[1,2],[3,4]])  \n",
    "print(\"Original matrix:\\n\",a)  \n",
    "b = np.linalg.inv(a)  \n",
    "print(\"Inverse:\\n\",b)  "
   ]
  },
  {
   "cell_type": "code",
   "execution_count": 95,
   "metadata": {},
   "outputs": [
    {
     "name": "stdout",
     "output_type": "stream",
     "text": [
      "[[ 2 -7  5]\n",
      " [-6  2  0]] \n",
      "\n",
      "[[ 5  8 -5]\n",
      " [ 3  6  9]] \n",
      "\n",
      "sum of matrix is [[ 7  1  0]\n",
      " [-3  8  9]]\n"
     ]
    }
   ],
   "source": [
    "#matrix addition\n",
    "import numpy as np\n",
    " \n",
    "arr1 = np.array([[2, -7, 5], [-6, 2, 0]])\n",
    "arr2 = np.array([[5, 8, -5], [3, 6, 9]])\n",
    "print(arr1,\"\\n\")\n",
    "print(arr2,\"\\n\")\n",
    "print(\"sum of matrix is \\n\",np.add(arr1,arr2))\n",
    "  "
   ]
  },
  {
   "cell_type": "code",
   "execution_count": null,
   "metadata": {},
   "outputs": [],
   "source": []
  }
 ],
 "metadata": {
  "kernelspec": {
   "display_name": "Python 3",
   "language": "python",
   "name": "python3"
  },
  "language_info": {
   "codemirror_mode": {
    "name": "ipython",
    "version": 3
   },
   "file_extension": ".py",
   "mimetype": "text/x-python",
   "name": "python",
   "nbconvert_exporter": "python",
   "pygments_lexer": "ipython3",
   "version": "3.9.4"
  },
  "orig_nbformat": 4
 },
 "nbformat": 4,
 "nbformat_minor": 2
}
